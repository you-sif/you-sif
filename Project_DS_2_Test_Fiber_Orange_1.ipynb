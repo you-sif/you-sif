{
  "nbformat": 4,
  "nbformat_minor": 0,
  "metadata": {
    "colab": {
      "provenance": [],
      "include_colab_link": true
    },
    "kernelspec": {
      "name": "python3",
      "display_name": "Python 3"
    },
    "language_info": {
      "name": "python"
    }
  },
  "cells": [
    {
      "cell_type": "markdown",
      "metadata": {
        "id": "view-in-github",
        "colab_type": "text"
      },
      "source": [
        "<a href=\"https://colab.research.google.com/github/you-sif/you-sif/blob/main/Project_DS_2_Test_Fiber_Orange_1.ipynb\" target=\"_parent\"><img src=\"https://colab.research.google.com/assets/colab-badge.svg\" alt=\"Open In Colab\"/></a>"
      ]
    },
    {
      "cell_type": "code",
      "source": [
        "!pip install category_encoders"
      ],
      "metadata": {
        "colab": {
          "base_uri": "https://localhost:8080/"
        },
        "id": "SvzPQknx1RxP",
        "outputId": "62aa6d05-a182-4bec-8794-a210838f943e"
      },
      "execution_count": null,
      "outputs": [
        {
          "output_type": "stream",
          "name": "stdout",
          "text": [
            "Collecting category_encoders\n",
            "  Downloading category_encoders-2.6.2-py2.py3-none-any.whl (81 kB)\n",
            "\u001b[?25l     \u001b[90m━━━━━━━━━━━━━━━━━━━━━━━━━━━━━━━━━━━━━━━━\u001b[0m \u001b[32m0.0/81.8 kB\u001b[0m \u001b[31m?\u001b[0m eta \u001b[36m-:--:--\u001b[0m\r\u001b[2K     \u001b[91m━━━━━━━━━━━━━━━━━━━━━━━━━━━━━━\u001b[0m\u001b[90m╺\u001b[0m\u001b[90m━━━━━━━━━\u001b[0m \u001b[32m61.4/81.8 kB\u001b[0m \u001b[31m1.8 MB/s\u001b[0m eta \u001b[36m0:00:01\u001b[0m\r\u001b[2K     \u001b[90m━━━━━━━━━━━━━━━━━━━━━━━━━━━━━━━━━━━━━━━━\u001b[0m \u001b[32m81.8/81.8 kB\u001b[0m \u001b[31m1.5 MB/s\u001b[0m eta \u001b[36m0:00:00\u001b[0m\n",
            "\u001b[?25hRequirement already satisfied: numpy>=1.14.0 in /usr/local/lib/python3.10/dist-packages (from category_encoders) (1.23.5)\n",
            "Requirement already satisfied: scikit-learn>=0.20.0 in /usr/local/lib/python3.10/dist-packages (from category_encoders) (1.2.2)\n",
            "Requirement already satisfied: scipy>=1.0.0 in /usr/local/lib/python3.10/dist-packages (from category_encoders) (1.11.2)\n",
            "Requirement already satisfied: statsmodels>=0.9.0 in /usr/local/lib/python3.10/dist-packages (from category_encoders) (0.14.0)\n",
            "Requirement already satisfied: pandas>=1.0.5 in /usr/local/lib/python3.10/dist-packages (from category_encoders) (1.5.3)\n",
            "Requirement already satisfied: patsy>=0.5.1 in /usr/local/lib/python3.10/dist-packages (from category_encoders) (0.5.3)\n",
            "Requirement already satisfied: python-dateutil>=2.8.1 in /usr/local/lib/python3.10/dist-packages (from pandas>=1.0.5->category_encoders) (2.8.2)\n",
            "Requirement already satisfied: pytz>=2020.1 in /usr/local/lib/python3.10/dist-packages (from pandas>=1.0.5->category_encoders) (2023.3.post1)\n",
            "Requirement already satisfied: six in /usr/local/lib/python3.10/dist-packages (from patsy>=0.5.1->category_encoders) (1.16.0)\n",
            "Requirement already satisfied: joblib>=1.1.1 in /usr/local/lib/python3.10/dist-packages (from scikit-learn>=0.20.0->category_encoders) (1.3.2)\n",
            "Requirement already satisfied: threadpoolctl>=2.0.0 in /usr/local/lib/python3.10/dist-packages (from scikit-learn>=0.20.0->category_encoders) (3.2.0)\n",
            "Requirement already satisfied: packaging>=21.3 in /usr/local/lib/python3.10/dist-packages (from statsmodels>=0.9.0->category_encoders) (23.1)\n",
            "Installing collected packages: category_encoders\n",
            "Successfully installed category_encoders-2.6.2\n"
          ]
        }
      ]
    },
    {
      "cell_type": "code",
      "source": [
        "import pandas as pd\n",
        "import category_encoders as ce\n",
        "from sklearn.linear_model import LogisticRegression\n",
        "from sklearn.model_selection import cross_val_score\n",
        "from imblearn.over_sampling import RandomOverSampler\n",
        "from imblearn.under_sampling import RandomUnderSampler\n",
        "from sklearn.metrics import classification_report\n",
        "import pickle\n",
        "import warnings\n",
        "warnings.filterwarnings(\"ignore\")"
      ],
      "metadata": {
        "id": "2nzQurkT1QqX"
      },
      "execution_count": null,
      "outputs": []
    },
    {
      "cell_type": "code",
      "source": [
        "# Load the dataset from an Excel file\n",
        "file_path = '/content/preprocessed_data.xlsx'\n",
        "df = pd.read_excel(file_path)\n"
      ],
      "metadata": {
        "id": "CKTN8lTh3SBW"
      },
      "execution_count": null,
      "outputs": []
    },
    {
      "cell_type": "code",
      "execution_count": null,
      "metadata": {
        "colab": {
          "base_uri": "https://localhost:8080/"
        },
        "id": "PG-sm1GO1M1B",
        "outputId": "4f9706ae-36d4-4d71-d4d3-f55499827f09"
      },
      "outputs": [
        {
          "output_type": "stream",
          "name": "stdout",
          "text": [
            "Cross-validation scores: [0.75403226 0.74193548 0.73991935 0.72718104 0.73373676 0.72465961\n",
            " 0.74483106 0.74583964 0.75592537 0.75945537]\n",
            "Mean accuracy: 0.7427515941958258\n",
            "Classification report on resampled data:\n",
            "              precision    recall  f1-score   support\n",
            "\n",
            "           0       0.78      0.73      0.75     10438\n",
            "           1       0.72      0.77      0.74      9395\n",
            "\n",
            "    accuracy                           0.75     19833\n",
            "   macro avg       0.75      0.75      0.75     19833\n",
            "weighted avg       0.75      0.75      0.75     19833\n",
            "\n",
            "Predictions for new data:\n",
            "[1]\n"
          ]
        }
      ],
      "source": [
        "# Define categorical and numerical columns\n",
        "categorical_columns = [\"GOVERNORATE\", \"CUSTOMER_GENDER\", \"MIGRATION_FLAG\"]\n",
        "numerical_columns = [\"COMMITMENT\", \"OF_SPEED\", \"CUSTOMER_AGE_YEARS\", \"Customer with orange_MONTHS\"]\n",
        "label = \"TARGET\"\n",
        "\n",
        "# Separate features (X) and target variable (y)\n",
        "X = df[categorical_columns + numerical_columns]\n",
        "y = df[label]\n",
        "\n",
        "# Apply Random Oversampling and Undersampling\n",
        "ros = RandomOverSampler(sampling_strategy=0.1)\n",
        "rus = RandomUnderSampler(sampling_strategy=0.9)\n",
        "\n",
        "X_resampled, y_resampled = ros.fit_resample(X, y)\n",
        "X_resampled, y_resampled = rus.fit_resample(X_resampled, y_resampled)\n",
        "\n",
        "# Encode categorical variables using Binary Encoding\n",
        "encoder = ce.BinaryEncoder(cols=categorical_columns, return_df=True)\n",
        "X_resampled_encoded = encoder.fit_transform(X_resampled)\n",
        "\n",
        "# Train a logistic regression model using cross-validation\n",
        "model = LogisticRegression()\n",
        "scores = cross_val_score(model, X_resampled_encoded, y_resampled, cv=10)  # You can adjust the number of folds as needed\n",
        "\n",
        "# Print cross-validation scores\n",
        "print(\"Cross-validation scores:\", scores)\n",
        "print(\"Mean accuracy:\", scores.mean())\n",
        "\n",
        "# Fit the model on the entire resampled dataset\n",
        "model.fit(X_resampled_encoded, y_resampled)\n",
        "\n",
        "# Generate a classification report on the test data\n",
        "y_pred = model.predict(X_resampled_encoded)  # Predict on the resampled data\n",
        "classification_rep = classification_report(y_resampled, y_pred)\n",
        "\n",
        "print(\"Classification report on resampled data:\")\n",
        "print(classification_rep)\n",
        "\n",
        "# Save the trained model to a file\n",
        "model_path = 'trained_model.pkl'\n",
        "with open(model_path, 'wb') as file:\n",
        "    pickle.dump(model, file)\n",
        "\n",
        "# Load the pretrained model\n",
        "with open(model_path, 'rb') as file:\n",
        "    loaded_model = pickle.load(file)\n",
        "\n",
        "# Preprocess new data (replace this with your actual new data)\n",
        "X_new = pd.DataFrame({\n",
        "    \"GOVERNORATE\": [\"Irbid\"],\n",
        "    \"CUSTOMER_GENDER\": [\"M\"],\n",
        "    \"MIGRATION_FLAG\": [\"y\"],\n",
        "    \"COMMITMENT\": [24],\n",
        "    \"OF_SPEED\": [100],\n",
        "    \"CUSTOMER_AGE_YEARS\": [37],\n",
        "    \"Customer with orange_MONTHS\": [41]\n",
        "})\n",
        "\n",
        "# Encode categorical variables for the new data\n",
        "X_new_encoded = encoder.transform(X_new)\n",
        "\n",
        "# Make predictions on the new data\n",
        "new_data_predictions = loaded_model.predict(X_new_encoded)\n",
        "\n",
        "print(\"Predictions for new data:\")\n",
        "print(new_data_predictions)\n"
      ]
    },
    {
      "cell_type": "code",
      "source": [],
      "metadata": {
        "id": "h1o4R12k2d_J"
      },
      "execution_count": null,
      "outputs": []
    }
  ]
}